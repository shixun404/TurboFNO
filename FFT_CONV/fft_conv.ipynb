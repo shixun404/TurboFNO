{
 "cells": [
  {
   "cell_type": "code",
   "execution_count": null,
   "metadata": {},
   "outputs": [],
   "source": [
    "import numpy as np\n",
    "from scipy.fftpack import fft, ifft\n",
    "\n",
    "def fft_convolution_powerOfTwo(f, g):\n",
    "    L = len(f) + len(g) - 1  # 真实卷积长度\n",
    "    P = 2 ** int(np.ceil(np.log2(L)))  # 计算最近的 2^m\n",
    "\n",
    "    # 补零\n",
    "    f_padded = np.pad(f, (0, P - len(f)), 'constant')\n",
    "    g_padded = np.pad(g, (0, P - len(g)), 'constant')\n",
    "\n",
    "    # FFT 计算\n",
    "    F = fft(f_padded)\n",
    "    G = fft(g_padded)\n",
    "    H = F * G  # 逐点乘法\n",
    "\n",
    "    # 逆 FFT\n",
    "    h = np.real(ifft(H))[:L]  # 截取正确长度\n",
    "    return h\n",
    "\n",
    "f = np.random.rand(150)  # 150 点输入信号\n",
    "g = np.random.rand(75)   # 75 点卷积核\n",
    "h = fft_convolution(f, g)\n"
   ]
  },
  {
   "cell_type": "code",
   "execution_count": null,
   "metadata": {},
   "outputs": [],
   "source": []
  }
 ],
 "metadata": {
  "kernelspec": {
   "display_name": "Python 3",
   "language": "python",
   "name": "python3"
  },
  "language_info": {
   "codemirror_mode": {
    "name": "ipython",
    "version": 3
   },
   "file_extension": ".py",
   "mimetype": "text/x-python",
   "name": "python",
   "nbconvert_exporter": "python",
   "pygments_lexer": "ipython3",
   "version": "3.10.14"
  }
 },
 "nbformat": 4,
 "nbformat_minor": 2
}
